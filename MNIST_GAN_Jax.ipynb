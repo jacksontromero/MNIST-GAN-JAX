{
  "nbformat": 4,
  "nbformat_minor": 0,
  "metadata": {
    "colab": {
      "name": "MNIST_GAN_New(1)(2).ipynb",
      "provenance": [],
      "collapsed_sections": []
    },
    "kernelspec": {
      "name": "python3",
      "display_name": "Python 3"
    },
    "language_info": {
      "name": "python"
    },
    "accelerator": "GPU",
    "gpuClass": "standard"
  },
  "cells": [
    {
      "cell_type": "code",
      "execution_count": 219,
      "metadata": {
        "colab": {
          "base_uri": "https://localhost:8080/"
        },
        "id": "i4IrImXs2E5N",
        "outputId": "5b8c2e6f-7d99-4927-db59-f832fe261a1b"
      },
      "outputs": [
        {
          "output_type": "stream",
          "name": "stdout",
          "text": [
            "GPU 0: Tesla T4 (UUID: GPU-9131f7c9-4247-e63f-0718-e08207ebeac9)\n"
          ]
        }
      ],
      "source": [
        "# Check GPU\n",
        "!nvidia-smi -L"
      ]
    },
    {
      "cell_type": "code",
      "source": [
        "!pip install -q flax"
      ],
      "metadata": {
        "id": "LEBiqKfezUdK"
      },
      "execution_count": 220,
      "outputs": []
    },
    {
      "cell_type": "code",
      "source": [
        "import os\n",
        "import jax\n",
        "import jax.numpy as jnp\n",
        "import jax.random as jrandom\n",
        "from jax.nn.initializers import normal as normal_init\n",
        "\n",
        "from flax import linen as nn\n",
        "from flax.training import train_state, checkpoints\n",
        "\n",
        "import numpy as np\n",
        "import optax\n",
        "\n",
        "import tensorflow as tf\n",
        "import tensorflow_datasets as tfds\n",
        "\n",
        "import matplotlib.pyplot as plt\n",
        "\n",
        "from typing import Any\n",
        "\n",
        "from PIL import Image\n",
        "\n",
        "# PyTorch\n",
        "import torch\n",
        "import torchvision"
      ],
      "metadata": {
        "id": "OiFUOqBm2t1C"
      },
      "execution_count": 221,
      "outputs": []
    },
    {
      "cell_type": "code",
      "source": [
        "jax.default_backend()"
      ],
      "metadata": {
        "id": "_9Pc4AiZYLNx",
        "colab": {
          "base_uri": "https://localhost:8080/",
          "height": 35
        },
        "outputId": "12712829-22e1-4b9b-d9e3-1256f437cbf8"
      },
      "execution_count": 222,
      "outputs": [
        {
          "output_type": "execute_result",
          "data": {
            "text/plain": [
              "'gpu'"
            ],
            "application/vnd.google.colaboratory.intrinsic+json": {
              "type": "string"
            }
          },
          "metadata": {},
          "execution_count": 222
        }
      ]
    },
    {
      "cell_type": "code",
      "source": [
        "def set_range(batch):\n",
        "  batch = tf.image.convert_image_dtype(batch['image'], tf.float32)\n",
        "  batch = (batch - 0.5) / 0.5  # tanh range is -1, 1\n",
        "  return batch\n",
        " \n",
        "batch_size = 256\n",
        "\n",
        "mnist_train_data = tfds.load(\"mnist\")['train']\n",
        "mnist_test_data = tfds.load(\"mnist\")['test']\n",
        "batches_in_train_epoch = len(mnist_train_data) // batch_size\n",
        "batches_in_test_epoch = len(mnist_test_data) // batch_size\n",
        " \n",
        "train_data_gen = iter(tfds.as_numpy(\n",
        "      mnist_train_data\n",
        "        .map(set_range)\n",
        "        .cache()\n",
        "        .shuffle(len(mnist_train_data), seed=41)\n",
        "        .repeat()\n",
        "        .batch(batch_size)\n",
        " ))\n",
        "test_data_gen = iter(tfds.as_numpy(\n",
        "      mnist_test_data\n",
        "        .map(set_range)\n",
        "        .cache()\n",
        "        .shuffle(len(mnist_test_data), seed=41)\n",
        "        .repeat()\n",
        "        .batch(batch_size)\n",
        " ))\n"
      ],
      "metadata": {
        "id": "Abr_zNPykOVR"
      },
      "execution_count": 223,
      "outputs": []
    },
    {
      "cell_type": "code",
      "source": [
        "def get_dataloaders():\n",
        "  return train_data_gen, test_data_gen"
      ],
      "metadata": {
        "id": "zroa0mj268vy"
      },
      "execution_count": 224,
      "outputs": []
    },
    {
      "cell_type": "code",
      "source": [
        "CHECKPOINT_PATH = \"./saved_models/mnist_gan\"\n",
        "os.makedirs(CHECKPOINT_PATH, exist_ok=True)"
      ],
      "metadata": {
        "id": "MhoVfu73GTy1"
      },
      "execution_count": 225,
      "outputs": []
    },
    {
      "cell_type": "code",
      "source": [
        "class Discriminator(nn.Module):\n",
        "  features: int = 64\n",
        "  training: bool = True\n",
        "\n",
        "  q_cat: int = 10\n",
        "\n",
        "  @nn.compact\n",
        "  def __call__(self, x):\n",
        "    x = nn.Conv(self.features, [4, 4], [2, 2], 'VALID', kernel_init=normal_init(0.02))(x)\n",
        "    x = nn.BatchNorm(not self.training, -1, 0.1, scale_init=normal_init(0.02))(x)\n",
        "    x = nn.leaky_relu(x, 0.2)\n",
        "    x = nn.Conv(self.features*2, [4, 4], [2, 2], 'VALID', kernel_init=normal_init(0.02))(x)\n",
        "    x = nn.BatchNorm(not self.training, -1, 0.1, scale_init=normal_init(0.02))(x)\n",
        "    x = nn.leaky_relu(x, 0.2)\n",
        "    \n",
        "    # Discriminator output\n",
        "    d = nn.Conv(1, [4, 4], [2, 2], 'VALID', kernel_init=normal_init(0.02))(x)\n",
        "    d = d.reshape((d.shape[0], -1))\n",
        "\n",
        "    # Q outpiut\n",
        "    q = nn.Conv(self.features*2, [4, 4], [2, 2], 'VALID', kernel_init=normal_init(0.02))(x)\n",
        "    q = nn.BatchNorm(not self.training, -1, 0.1, scale_init=normal_init(0.02))(q)\n",
        "    q = nn.leaky_relu(q, 0.2)\n",
        "    q = nn.Conv(self.q_cat, [1, 1], [2, 2], 'VALID', kernel_init=normal_init(0.02))(q)\n",
        "    q = q.reshape((q.shape[0], -1))\n",
        "    \n",
        "    # print(jnp.shape(d), jnp.shape(q))\n",
        "    \n",
        "    return d, q\n"
      ],
      "metadata": {
        "id": "iiWQT1ffjfiv"
      },
      "execution_count": 226,
      "outputs": []
    },
    {
      "cell_type": "code",
      "source": [
        "class Generator(nn.Module):\n",
        "  features: int = 64\n",
        "  training: bool = True\n",
        "\n",
        "  @nn.compact\n",
        "  def __call__(self, z):\n",
        "    # print(z)\n",
        "    z = z.reshape((z.shape[0], 1, 1, z.shape[1]))\n",
        "    x = nn.ConvTranspose(self.features*4, [3, 3], [2, 2], 'VALID', kernel_init=normal_init(0.02))(z)\n",
        "    x = nn.BatchNorm(not self.training, -1, 0.1, scale_init=normal_init(0.02))(x)\n",
        "    x = nn.relu(x)\n",
        "    x = nn.ConvTranspose(self.features*2, [4, 4], [1, 1], 'VALID', kernel_init=normal_init(0.02))(x)\n",
        "    x = nn.BatchNorm(not self.training, -1, 0.1, scale_init=normal_init(0.02))(x)\n",
        "    x = nn.relu(x)\n",
        "    x = nn.ConvTranspose(self.features, [3, 3], [2, 2], 'VALID', kernel_init=normal_init(0.02))(x)\n",
        "    x = nn.BatchNorm(not self.training, -1, 0.1, scale_init=normal_init(0.02))(x)\n",
        "    x = nn.relu(x)\n",
        "    x = nn.ConvTranspose(1, [4, 4], [2, 2], 'VALID', kernel_init=normal_init(0.02))(x)\n",
        "    x = jnp.tanh(x)\n",
        "\n",
        "    # print(jnp.shape(x))\n",
        "    return x"
      ],
      "metadata": {
        "id": "u9aW4T6jj9s8"
      },
      "execution_count": 227,
      "outputs": []
    },
    {
      "cell_type": "code",
      "source": [
        "def generate_latent_points(rng, latent_dim, n_samples):\n",
        "  rng, latent_rng, cat_rng = jrandom.split(rng, num=3)\n",
        "  latent_inputs = jrandom.normal(latent_rng, (n_samples, latent_dim))\n",
        "  cat_codes = jrandom.randint(cat_rng, (n_samples,), 0, 10)\n",
        "  cat_codes = nn.one_hot(cat_codes, 10)\n",
        "  z_input = jnp.concatenate((latent_inputs, cat_codes), axis=1)\n",
        "\n",
        "  return z_input, cat_codes"
      ],
      "metadata": {
        "id": "jXIJu6J1KytU"
      },
      "execution_count": 228,
      "outputs": []
    },
    {
      "cell_type": "code",
      "source": [
        "def generate_latent_fixed_points(rng, latent_dim, value, n_samples):\n",
        "  rng, latent_rng, cat_rng = jrandom.split(rng, num=3)\n",
        "  latent_inputs = jrandom.normal(latent_rng, (n_samples, latent_dim))\n",
        "  cat_codes = jnp.full((n_samples,), value)\n",
        "  cat_codes = nn.one_hot(cat_codes, 10)\n",
        "  z_input = jnp.concatenate((latent_inputs, cat_codes), axis=1)\n",
        "\n",
        "  return z_input, cat_codes"
      ],
      "metadata": {
        "id": "RNyKUS34wgno"
      },
      "execution_count": 229,
      "outputs": []
    },
    {
      "cell_type": "code",
      "source": [
        "def save_model(discrim_state, gen_state, step=0):\n",
        "  checkpoints.save_checkpoint(ckpt_dir=CHECKPOINT_PATH,\n",
        "                              target={'discrim_params': discrim_state.params,\n",
        "                                      'gen_params': gen_state.params,\n",
        "                                      'discrim_batch_stats': discrim_state.batch_stats,\n",
        "                                      'gen_batch_stats': gen_state.batch_stats},\n",
        "                              step=step,\n",
        "                              overwrite=True)\n",
        "  "
      ],
      "metadata": {
        "id": "zMvjQMIYEOty"
      },
      "execution_count": 230,
      "outputs": []
    },
    {
      "cell_type": "code",
      "source": [
        "def load_model():\n",
        "  state_dict = checkpoints.restore_checkpoint(ckpt_dir=CHECKPOINT_PATH, target=None)\n",
        "  return state_dict[\"discrim_params\"], state_dict[\"discrim_batch_stats\"], state_dict[\"gen_params\"], state_dict[\"gen_batch_stats\"]"
      ],
      "metadata": {
        "id": "GaqbSHTGE3-8"
      },
      "execution_count": 231,
      "outputs": []
    },
    {
      "cell_type": "code",
      "source": [
        "def checkpoint_exists():\n",
        "  return checkpoints.latest_checkpoint(ckpt_dir=CHECKPOINT_PATH) != None\n",
        "\n",
        "def checkpoint_epoch():\n",
        "  if checkpoint_exists():\n",
        "    return int(checkpoints.latest_checkpoint(ckpt_dir=CHECKPOINT_PATH).split(\"_\")[-1])\n",
        "  return -1"
      ],
      "metadata": {
        "id": "J-dBmuFyF8Dc"
      },
      "execution_count": 232,
      "outputs": []
    },
    {
      "cell_type": "code",
      "source": [
        "def create_fake_imgs(rng, num, gen_state, latent_dim):\n",
        "  rng, latent_rng = jrandom.split(rng)\n",
        "  z_input, _ = generate_latent_points(latent_rng, latent_dim, num)\n",
        "  fake_imgs, _ = Generator().apply({\"params\": gen_state.params, \"batch_stats\": gen_state.batch_stats},\n",
        "                                  z_input,\n",
        "                                  mutable=[\"batch_stats\"])\n",
        "  return fake_imgs"
      ],
      "metadata": {
        "id": "pggD6ed6I43T"
      },
      "execution_count": 233,
      "outputs": []
    },
    {
      "cell_type": "code",
      "source": [
        "def create_fixed_fake_imgs(rng, num, gen_state, latent_dim, value):\n",
        "  rng, latent_rng = jrandom.split(rng)\n",
        "  z_input, _ = generate_latent_fixed_points(latent_rng, latent_dim, value, num)\n",
        "  fake_imgs, _ = Generator().apply({\"params\": gen_state.params, \"batch_stats\": gen_state.batch_stats},\n",
        "                                  z_input,\n",
        "                                  mutable=[\"batch_stats\"])\n",
        "  return fake_imgs"
      ],
      "metadata": {
        "id": "BkH9TC4Rrbud"
      },
      "execution_count": 234,
      "outputs": []
    },
    {
      "cell_type": "code",
      "source": [
        "class TrainState(train_state.TrainState):\n",
        "    # A simple extension of TrainState to also include batch statistics\n",
        "    batch_stats: Any"
      ],
      "metadata": {
        "id": "Ny4iAsCq2f4p"
      },
      "execution_count": 235,
      "outputs": []
    },
    {
      "cell_type": "code",
      "source": [
        "def create_train_discrim_state(rng, image_shape, learning_rate):\n",
        "  rng, init_rng, dropout_rng = jrandom.split(rng, 3)\n",
        "\n",
        "  discrim = Discriminator().init(init_rng, jnp.ones(image_shape, jnp.float32))\n",
        "  params = discrim['params']\n",
        "  batch_stats = discrim['batch_stats']\n",
        "  tx = optax.adam(learning_rate, 0.5, 0.999)\n",
        "\n",
        "  if checkpoint_exists():\n",
        "    params, batch_stats, _, _ = load_model()\n",
        "\n",
        "  return TrainState.create(\n",
        "      apply_fn = Discriminator().apply,\n",
        "      params = params,\n",
        "      tx = tx,\n",
        "      batch_stats = batch_stats\n",
        "  )"
      ],
      "metadata": {
        "id": "o7vaCmzH3WdF"
      },
      "execution_count": 236,
      "outputs": []
    },
    {
      "cell_type": "code",
      "source": [
        "def create_train_gen_state(rng, latent_shape, learning_rate):\n",
        "  rng, latent_rng = jrandom.split(rng)\n",
        "\n",
        "  gen = Generator().init(rng, jnp.ones(latent_shape, jnp.float32))\n",
        "  params = gen[\"params\"]\n",
        "  batch_stats = gen[\"batch_stats\"]\n",
        "  tx = optax.adam(learning_rate, 0.5, 0.999)\n",
        "\n",
        "  if checkpoint_exists():\n",
        "    _, _, params, batch_stats = load_model()\n",
        "\n",
        "  return TrainState.create(\n",
        "      apply_fn = Generator().apply,\n",
        "      params = params,\n",
        "      batch_stats = batch_stats,\n",
        "      tx = tx\n",
        "  )"
      ],
      "metadata": {
        "id": "zdx5HfS53sil"
      },
      "execution_count": 237,
      "outputs": []
    },
    {
      "cell_type": "code",
      "source": [
        "@jax.jit\n",
        "def mean_square_error_loss(logits, labels):\n",
        "  # neg_abs = -jnp.abs(logits)\n",
        "  # batch_bce = jnp.maximum(logits, 0) - logits * labels + jnp.log(1 + jnp.exp(neg_abs))\n",
        "  # batch_bce = jnp.mean(batch_bce)\n",
        "\n",
        "  batch_mse = jnp.mean(jnp.square(logits-labels))\n",
        "\n",
        "  return batch_mse"
      ],
      "metadata": {
        "id": "T-MpjZMyY7cN"
      },
      "execution_count": 238,
      "outputs": []
    },
    {
      "cell_type": "code",
      "source": [
        "@jax.jit\n",
        "def mutual_information_loss(code_cat, q_cat):\n",
        "  cat_loss = jnp.mean(jnp.sum(code_cat * q_cat, axis=-1))\n",
        "  mi_loss = -cat_loss\n",
        "  return mi_loss"
      ],
      "metadata": {
        "id": "_2PFHrwaZRel"
      },
      "execution_count": 239,
      "outputs": []
    },
    {
      "cell_type": "code",
      "source": [
        "@jax.jit\n",
        "def compute_metrics(logits, labels):\n",
        "  loss = mean_square_error_loss(logits, labels)\n",
        "\n",
        "  logits = nn.sigmoid(logits-0.5)\n",
        "  accuracy = jnp.mean(jnp.round(logits) == labels)\n",
        "\n",
        "  return {\n",
        "      'loss': loss,\n",
        "      'accuracy': accuracy,\n",
        "  }\n"
      ],
      "metadata": {
        "id": "jYm3m43Gtwi7"
      },
      "execution_count": 240,
      "outputs": []
    },
    {
      "cell_type": "markdown",
      "source": [
        "Real = 1, Fake = 0"
      ],
      "metadata": {
        "id": "clOWwuEFc8mf"
      }
    },
    {
      "cell_type": "code",
      "source": [
        "@jax.jit\n",
        "def train_discrim_step(rng, discrim_state, real_imgs, fake_imgs, fake_cat_input):\n",
        "  real_labels = jnp.ones(jnp.shape(real_imgs)[0], dtype=jnp.int32)\n",
        "  fake_labels = jnp.zeros(jnp.shape(fake_imgs)[0], dtype=jnp.int32)\n",
        "\n",
        "  # Train for a single step\n",
        "  def discrim_loss_fn(d_params):\n",
        "    (y_hat_real, _), d_vars = Discriminator().apply({\"params\": d_params, \"batch_stats\": discrim_state.batch_stats}, \n",
        "                                    real_imgs,\n",
        "                                    mutable=['batch_stats'])\n",
        "    y_hat_real = jnp.reshape(y_hat_real, (jnp.shape(y_hat_real)[0],))\n",
        "    real_loss = mean_square_error_loss(y_hat_real, real_labels)\n",
        "\n",
        "    (y_hat_fake, cat_hat_fake), d_vars = Discriminator().apply({\"params\": d_params, \"batch_stats\": d_vars[\"batch_stats\"]}, \n",
        "                                    fake_imgs,\n",
        "                                    mutable=['batch_stats'])\n",
        "    y_hat_fake = jnp.reshape(y_hat_fake, (jnp.shape(y_hat_fake)[0],))\n",
        "    fake_loss = mean_square_error_loss(y_hat_fake, fake_labels)\n",
        "\n",
        "    q_cat_fake = nn.log_softmax(cat_hat_fake, axis=-1)\n",
        "\n",
        "    loss_mi = mutual_information_loss(fake_cat_input, q_cat_fake)\n",
        "    img_loss = ((real_loss + fake_loss) / 2)\n",
        "\n",
        "    return img_loss + 1.05*loss_mi, (y_hat_real, y_hat_fake, d_vars)\n",
        "  \n",
        "  grad_fn = jax.value_and_grad(discrim_loss_fn, has_aux=True)\n",
        "  (loss, (real_logits, fake_logits, d_vars)), grads = grad_fn(discrim_state.params)\n",
        "  discrim_state = discrim_state.apply_gradients(grads=grads, batch_stats=d_vars[\"batch_stats\"])\n",
        "\n",
        "  all_logits = jnp.append(real_logits, fake_logits, axis=0)\n",
        "  all_labels = jnp.append(real_labels, fake_labels)\n",
        "  metrics = compute_metrics(logits = all_logits, labels = all_labels)\n",
        "\n",
        "  return discrim_state, metrics"
      ],
      "metadata": {
        "id": "r7z-DS7l31Zi"
      },
      "execution_count": 241,
      "outputs": []
    },
    {
      "cell_type": "code",
      "source": [
        "@jax.jit\n",
        "def train_gen_step(rng, discrim_state, gen_state, latent_inputs, fake_cat_input):\n",
        "  \n",
        "  # Wrong labels (labeling fake as 1 instead of 0)\n",
        "  wrong_fake_labels = jnp.ones(jnp.shape(latent_inputs)[0])\n",
        "  \n",
        "  # We want generator to maximize loss, meaning if Discriminator spits out a lot of 1's the loss should be low\n",
        "  def gen_loss_fn(g_params):\n",
        "    fake_imgs, g_vars = Generator().apply({\"params\": g_params, \"batch_stats\": gen_state.batch_stats},\n",
        "                                latent_inputs,\n",
        "                                mutable=['batch_stats'])\n",
        "    \n",
        "    (y_hat, cat_hat), d_vars = Discriminator().apply({\"params\": discrim_state.params, \"batch_stats\": discrim_state.batch_stats},\n",
        "                                  fake_imgs,\n",
        "                                  mutable=['batch_stats'])\n",
        "    y_hat = jnp.reshape(y_hat, (jnp.shape(y_hat)[0],))\n",
        "    img_loss = mean_square_error_loss(y_hat, wrong_fake_labels)\n",
        "\n",
        "    q_cat = nn.log_softmax(cat_hat, axis=-1)\n",
        "    loss_mi = mutual_information_loss(fake_cat_input, q_cat)\n",
        "\n",
        "    return img_loss + 1.05*loss_mi, (y_hat, fake_imgs, d_vars, g_vars)\n",
        "  \n",
        "  grad_fn = jax.value_and_grad(gen_loss_fn, has_aux=True)\n",
        "  (loss, (all_logits, fake_imgs, d_vars, g_vars)), grads = grad_fn(gen_state.params)\n",
        "  gen_state = gen_state.apply_gradients(grads=grads, batch_stats=g_vars[\"batch_stats\"])\n",
        "\n",
        "  discrim_state = discrim_state.replace(batch_stats = d_vars[\"batch_stats\"])\n",
        "\n",
        "  metrics = compute_metrics(logits = all_logits, labels = wrong_fake_labels)\n",
        "\n",
        "  return gen_state, discrim_state, fake_imgs, metrics"
      ],
      "metadata": {
        "id": "VulIn3_xb9YY"
      },
      "execution_count": 242,
      "outputs": []
    },
    {
      "cell_type": "code",
      "source": [
        "@jax.jit\n",
        "def eval_step(rng, discrim_state, gen_state, all_imgs, all_labels):\n",
        "  rng, dropout_rng = jrandom.split(rng)\n",
        "\n",
        "  (y_hat, _), _ = Discriminator().apply({\"params\": discrim_state.params, \"batch_stats\": discrim_state.batch_stats}, \n",
        "                                    all_imgs,\n",
        "                                    mutable=[\"batch_stats\"])\n",
        "  y_hat = jnp.reshape(y_hat, (jnp.shape(y_hat)[0],))\n",
        "  return compute_metrics(y_hat, all_labels)\n"
      ],
      "metadata": {
        "id": "lo-H4yZk4uJI"
      },
      "execution_count": 243,
      "outputs": []
    },
    {
      "cell_type": "code",
      "source": [
        "def eval_model(rng, discrim_state, gen_state, latent_dim, test_loader):\n",
        "  losses, accuracies = [], []\n",
        "\n",
        "\n",
        "  for batch_idx in range(batches_in_test_epoch):\n",
        "    batch = next(test_loader)\n",
        "\n",
        "    real_labels = jnp.ones(len(batch))\n",
        "    fake_labels = jnp.zeros(len(batch))\n",
        "    all_labels = jnp.append(real_labels, fake_labels)\n",
        "    \n",
        "    # Generate fake images\n",
        "    rng, test_rng, latent_rng = jrandom.split(rng, num = 3)\n",
        "    fake_imgs = create_fake_imgs(latent_rng, len(batch), gen_state, latent_dim)\n",
        "    all_imgs = jnp.append(batch, fake_imgs, axis=0)\n",
        "\n",
        "    metrics = eval_step(test_rng, discrim_state, gen_state, all_imgs, all_labels)\n",
        "    metrics = jax.device_get(metrics)\n",
        "    summary = jax.tree_util.tree_map(lambda x: x.item(), metrics)\n",
        "    losses.append(summary['loss']), accuracies.append(summary['accuracy'])\n",
        "  \n",
        "  return jnp.mean(jnp.array(losses)), jnp.mean(jnp.array(accuracies))"
      ],
      "metadata": {
        "id": "3kbco6twt_SP"
      },
      "execution_count": 244,
      "outputs": []
    },
    {
      "cell_type": "code",
      "source": [
        "def train_epoch(rng, discrim_state, gen_state, latent_dim, train_loader, epoch):\n",
        "\n",
        "  # Train for a single epoch\n",
        "  for batch_idx in range(batches_in_train_epoch):\n",
        "    # real_labels = jnp.ones(len(batch[0]))\n",
        "    # fake_labels = jnp.zeros(len(batch[0]))\n",
        "    # all_labels = jnp.append(real_labels, fake_labels)\n",
        "    batch = next(train_loader)\n",
        "\n",
        "    # Generate fake images\n",
        "    rng, latent_rng, gen_rng, train_rng, eval_rng = jrandom.split(rng, num = 5)\n",
        "    z_input, cat_onehot = generate_latent_points(latent_rng, latent_dim, len(batch))\n",
        "    gen_state, discrim_state, fake_imgs, gen_metrics = train_gen_step(gen_rng, discrim_state, gen_state, z_input, cat_onehot)\n",
        "    all_imgs = jnp.append(batch, fake_imgs, axis=0)\n",
        "\n",
        "    discrim_state, discrim_metrics = train_discrim_step(train_rng, discrim_state, batch, fake_imgs, cat_onehot)\n",
        "  \n",
        "  return discrim_state, gen_state"
      ],
      "metadata": {
        "id": "DzP1Nt6b0T19"
      },
      "execution_count": 245,
      "outputs": []
    },
    {
      "cell_type": "code",
      "source": [
        "def print_exmp(rng, discrim_state, gen_state, latent_dim, source_batch):\n",
        "  # rng, fake_rng = jrandom.split(rng)\n",
        "  # imgs = create_fixed_fake_imgs(fake_rng, 4, gen_state, latent_dim, 0)\n",
        "  imgs = source_batch[0:4]\n",
        "\n",
        "  for i in range(0, 10):\n",
        "    rng, fake_rng = jrandom.split(rng)\n",
        "    imgs = jnp.append(imgs, create_fixed_fake_imgs(fake_rng, 4, gen_state, latent_dim, i), axis=0)\n",
        "\n",
        "  np_imgs = [np.array(jnp.reshape(img, (1, 28, 28))) for img in imgs]\n",
        "  img_grid = torchvision.utils.make_grid(torch.tensor(np_imgs), nrow=4, normalize=False, pad_value=0.5)\n",
        "  img_grid = img_grid.permute(1, 2, 0)\n",
        "\n",
        "  plt.figure(figsize=(22,8))\n",
        "  plt.title(\"Comparing generated MNIST (First Row: source data, Other Rows: generated)\")\n",
        "  plt.imshow(img_grid)\n",
        "  plt.axis('off')\n",
        "  plt.show()\n",
        "  plt.close()\n",
        "\n",
        "  # (discrim_outputs, _), _ = Discriminator().apply({\"params\": discrim_state.params, \"batch_stats\": discrim_state.batch_stats},\n",
        "  #                                       jnp.reshape(imgs, (44, 28, 28, 1)),\n",
        "  #                                       mutable=['batch_stats'])\n",
        "  # discrim_outputs = jnp.reshape(discrim_outputs, (jnp.shape(discrim_outputs)[0],))\n",
        "  # print(discrim_outputs)\n",
        "  # print(jnp.round(nn.sigmoid(discrim_outputs - 0.5)))"
      ],
      "metadata": {
        "id": "i9YUFqwjH1hD"
      },
      "execution_count": 246,
      "outputs": []
    },
    {
      "cell_type": "code",
      "source": [
        "train_loader, test_loader = get_dataloaders()"
      ],
      "metadata": {
        "id": "34nvYFan7GAc"
      },
      "execution_count": 247,
      "outputs": []
    },
    {
      "cell_type": "code",
      "source": [
        "rng, latent_rng, discrim_rng, gen_rng, first_print_rng, first_eval_rng  = jrandom.split(jrandom.PRNGKey(seed=42), num=6)\n",
        "\n",
        "test_data = next(test_loader)\n",
        "img_shape = jnp.shape(test_data)\n",
        "\n",
        "latent_dim = 64\n",
        "latent_shape = jnp.shape(generate_latent_points(latent_rng, latent_dim, batch_size)[0])\n",
        "\n",
        "discrim_state = create_train_discrim_state(discrim_rng,\n",
        "                                           img_shape,\n",
        "                                           0.0002)\n",
        "\n",
        "\n",
        "gen_state = create_train_gen_state(gen_rng,\n",
        "                                   latent_shape,\n",
        "                                   0.0002)\n",
        "\n",
        "num_epochs = 130\n",
        "\n",
        "print_exmp(first_print_rng, discrim_state, gen_state, latent_dim, test_data)\n",
        "test_loss, test_accuracy = eval_model(first_eval_rng, discrim_state, gen_state, latent_dim, test_loader)\n",
        "print(' test epoch: %d, loss: %.2f, accuracy: %.2f' % (\n",
        "    checkpoint_epoch(), test_loss, test_accuracy * 100))\n",
        "\n",
        "loaded_checkpoint_epoch = checkpoint_epoch()\n",
        "# only train if not loaded from save\n",
        "if loaded_checkpoint_epoch <= num_epochs:\n",
        "  for epoch in range(loaded_checkpoint_epoch+1, num_epochs + 1):\n",
        "    # Use a separate PRNG key to permute image data during shuffling\n",
        "    rng, input_rng, eval_rng, print_rng = jax.random.split(rng, num=4)\n",
        "    # Run an optimization step over a training batch\n",
        "    discrim_state, gen_state = train_epoch(input_rng, discrim_state, gen_state, latent_dim, train_loader, epoch)\n",
        "    save_model(discrim_state, gen_state, step=epoch)\n",
        "    \n",
        "    # Evaluate on the test set after each training epoch \n",
        "    test_loss, test_accuracy = eval_model(eval_rng, discrim_state, gen_state, latent_dim, test_loader)\n",
        "    print_exmp(print_rng, discrim_state, gen_state, latent_dim, test_data)\n",
        "    print(' test epoch: %d, loss: %.2f, accuracy: %.2f' % (\n",
        "        epoch, test_loss, test_accuracy * 100))"
      ],
      "metadata": {
        "colab": {
          "base_uri": "https://localhost:8080/",
          "height": 517
        },
        "id": "DRJZ1Nt_i2Hr",
        "outputId": "63a5fc87-dc44-4fc9-9dae-1942ed660907"
      },
      "execution_count": 218,
      "outputs": [
        {
          "output_type": "stream",
          "name": "stderr",
          "text": [
            "WARNING:matplotlib.image:Clipping input data to the valid range for imshow with RGB data ([0..1] for floats or [0..255] for integers).\n"
          ]
        },
        {
          "output_type": "display_data",
          "data": {
            "text/plain": [
              "<Figure size 1584x576 with 1 Axes>"
            ],
            "image/png": "[encoded data removed]"
          },
          "metadata": {
            "needs_background": "light"
          }
        },
        {
          "output_type": "stream",
          "name": "stdout",
          "text": [
            " test epoch: 130, loss: 0.24, accuracy: 60.93\n"
          ]
        }
      ]
    },
    {
      "cell_type": "code",
      "source": [
        "from google.colab import drive\n",
        "drive.mount('/content/drive')\n",
        "\n",
        "os.makedirs(\"/content/drive/MyDrive/Colab_Data/MNIST_GAN\", exist_ok=True)\n",
        "checkpoints.save_checkpoint(ckpt_dir=\"/content/drive/MyDrive/Colab_Data/MNIST_GAN\",\n",
        "                              target={'discrim_params': discrim_state.params,\n",
        "                                      'gen_params': gen_state.params,\n",
        "                                      'discrim_batch_stats': discrim_state.batch_stats,\n",
        "                                      'gen_batch_stats': gen_state.batch_stats},\n",
        "                              step=num_epochs,\n",
        "                              overwrite=True)"
      ],
      "metadata": {
        "id": "jiinn3cSxoRT",
        "colab": {
          "base_uri": "https://localhost:8080/",
          "height": 52
        },
        "outputId": "f544469a-efc0-4f7e-e264-48ef8a095fa4"
      },
      "execution_count": 217,
      "outputs": [
        {
          "output_type": "stream",
          "name": "stdout",
          "text": [
            "Drive already mounted at /content/drive; to attempt to forcibly remount, call drive.mount(\"/content/drive\", force_remount=True).\n"
          ]
        },
        {
          "output_type": "execute_result",
          "data": {
            "text/plain": [
              "'/content/drive/MyDrive/Colab_Data/MNIST_GAN/checkpoint_130'"
            ],
            "application/vnd.google.colaboratory.intrinsic+json": {
              "type": "string"
            }
          },
          "metadata": {},
          "execution_count": 217
        }
      ]
    }
  ]
}